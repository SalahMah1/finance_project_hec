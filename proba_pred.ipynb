{
 "cells": [
  {
   "cell_type": "code",
   "execution_count": null,
   "metadata": {},
   "outputs": [],
   "source": [
    "import pandas as pd\n",
    "import numpy as np\n",
    "from sklearn.linear_model import LogisticRegression\n",
    "from sklearn.model_selection import train_test_split\n",
    "from sklearn.preprocessing import OneHotEncoder as ohe\n",
    "from sklearn.preprocessing import StandardScaler"
   ]
  },
  {
   "cell_type": "code",
   "execution_count": null,
   "metadata": {},
   "outputs": [],
   "source": [
    "past = pd.read_csv('PastLoans.csv')\n",
    "new = pd.read_csv('NewApplications_1_Round1.csv')\n",
    "past.set_index(['id'], inplace=True)\n",
    "new.set_index(['id'], inplace=True)"
   ]
  },
  {
   "cell_type": "code",
   "execution_count": null,
   "metadata": {},
   "outputs": [],
   "source": [
    "print(past.shape)\n",
    "print(past.head())\n",
    "print(new.shape)\n",
    "print(new.head())"
   ]
  },
  {
   "cell_type": "code",
   "execution_count": null,
   "metadata": {},
   "outputs": [],
   "source": [
    "past.value_counts(['default'])"
   ]
  },
  {
   "cell_type": "code",
   "execution_count": null,
   "metadata": {},
   "outputs": [],
   "source": [
    "past.groupby(by=['default']).mean()"
   ]
  },
  {
   "cell_type": "code",
   "execution_count": null,
   "metadata": {},
   "outputs": [],
   "source": [
    "past1 = past.drop(['digital2', 'digital3'], axis=1)\n",
    "past1.rename(columns={'digital1':'digital'}, inplace=True)\n",
    "y1 = list(past1['default'])\n",
    "X1 = past1.drop(['default'], axis=1)\n",
    "\n",
    "past2 = past.drop(['digital1', 'digital3'], axis=1)\n",
    "past2.rename(columns={'digital2':'digital'}, inplace=True)\n",
    "y2 = list(past2['default'])\n",
    "X2 = past2.drop(['default'], axis=1)\n",
    "\n",
    "past3 = past.drop(['digital1', 'digital2'], axis=1)\n",
    "past3.rename(columns={'digital3':'digital'}, inplace=True)\n",
    "y3 = list(past3['default'])\n",
    "X3 = past3.drop(['default'], axis=1)\n"
   ]
  },
  {
   "cell_type": "code",
   "execution_count": null,
   "metadata": {},
   "outputs": [],
   "source": [
    "cat_features = ['sex', 'employment']\n",
    "pass_features = ['married']\n",
    "numerical_features = ['income']\n",
    "numerical_pass_features = ['digital']\n",
    "\n",
    "cat_encoder = ohe()\n",
    "numerical_encoder = StandardScaler()"
   ]
  },
  {
   "cell_type": "code",
   "execution_count": null,
   "metadata": {},
   "outputs": [],
   "source": [
    "pd.get_dummies(X1[cat_features], drop_first=True)"
   ]
  },
  {
   "cell_type": "code",
   "execution_count": null,
   "metadata": {},
   "outputs": [],
   "source": [
    "X1[numerical_features] = numerical_encoder.fit_transform(X1[numerical_features])\n",
    "X2[numerical_features] = numerical_encoder.fit_transform(X2[numerical_features])\n",
    "X3[numerical_features] = numerical_encoder.fit_transform(X3[numerical_features])\n",
    "\n",
    "dums = pd.get_dummies(X1[cat_features], drop_first=True)\n",
    "X1.drop(cat_features, axis=1, inplace=True)\n",
    "X2.drop(cat_features, axis=1, inplace=True)\n",
    "X3.drop(cat_features, axis=1, inplace=True)\n",
    "\n",
    "X1[dums.columns] = dums\n",
    "X2[dums.columns] = dums\n",
    "X3[dums.columns] = dums"
   ]
  },
  {
   "cell_type": "code",
   "execution_count": null,
   "metadata": {},
   "outputs": [],
   "source": [
    "X_train1, X_test1, y_train1, y_test1 = train_test_split(X1, y1, test_size=0.2, random_state=42)\n",
    "X_train2, X_test2, y_train2, y_test2 = train_test_split(X2, y2, test_size=0.2, random_state=42)\n",
    "X_train3, X_test3, y_train3, y_test3 = train_test_split(X3, y3, test_size=0.2, random_state=42)"
   ]
  },
  {
   "cell_type": "code",
   "execution_count": null,
   "metadata": {},
   "outputs": [],
   "source": [
    "# cat1 = ohe().fit(X1[cat_features])\n",
    "# cat2 = ohe().fit(X2[cat_features])\n",
    "# cat3 = ohe().fit(X3[cat_features])"
   ]
  },
  {
   "cell_type": "code",
   "execution_count": null,
   "metadata": {},
   "outputs": [],
   "source": [
    "clf1 = LogisticRegression(random_state=42).fit(X_train1, y_train1)\n",
    "clf2 = LogisticRegression(random_state=42).fit(X_train2, y_train2)\n",
    "clf3 = LogisticRegression(random_state=42).fit(X_train3, y_train3)"
   ]
  },
  {
   "cell_type": "code",
   "execution_count": null,
   "metadata": {},
   "outputs": [],
   "source": [
    "clf1.score(X_train1, y_train1)"
   ]
  },
  {
   "cell_type": "code",
   "execution_count": null,
   "metadata": {},
   "outputs": [],
   "source": [
    "clf1.predict(X_test1).sum()"
   ]
  }
 ],
 "metadata": {
  "kernelspec": {
   "display_name": "Python 3.9.7 ('base')",
   "language": "python",
   "name": "python3"
  },
  "language_info": {
   "codemirror_mode": {
    "name": "ipython",
    "version": 3
   },
   "file_extension": ".py",
   "mimetype": "text/x-python",
   "name": "python",
   "nbconvert_exporter": "python",
   "pygments_lexer": "ipython3",
   "version": "3.9.7"
  },
  "orig_nbformat": 4,
  "vscode": {
   "interpreter": {
    "hash": "096d4302486a5f76f9b50d582eb8507d0f454f0513db05604f74a7cecd9e1d14"
   }
  }
 },
 "nbformat": 4,
 "nbformat_minor": 2
}
