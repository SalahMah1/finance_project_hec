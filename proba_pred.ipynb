{
 "cells": [
  {
   "cell_type": "code",
   "execution_count": 13,
   "metadata": {},
   "outputs": [],
   "source": [
    "import pandas as pd\n",
    "import numpy as np\n",
    "import seaborn as sn\n",
    "import imblearn\n",
    "from imblearn.over_sampling import SMOTE, BorderlineSMOTE\n",
    "import matplotlib.pyplot as plt \n",
    "from tqdm import tqdm\n",
    "\n",
    "from sklearn.ensemble import AdaBoostClassifier, GradientBoostingClassifier, RandomForestClassifier\n",
    "from sklearn.linear_model import LogisticRegression\n",
    "from sklearn.metrics import f1_score, mean_squared_error, auc, accuracy_score, confusion_matrix\n",
    "\n",
    "from sklearn.preprocessing import OneHotEncoder as ohe\n",
    "from sklearn.preprocessing import StandardScaler, Normalizer\n",
    "from sklearn.model_selection import cross_val_score, RandomizedSearchCV, train_test_split\n",
    "\n",
    "import xgboost as xgb\n",
    "import lightgbm as lgb"
   ]
  },
  {
   "cell_type": "code",
   "execution_count": 2,
   "metadata": {},
   "outputs": [],
   "source": [
    "past = pd.read_csv('PastLoans.csv')\n",
    "new = pd.read_csv('NewApplications_1_Round1.csv')\n",
    "past.set_index(['id'], inplace=True)\n",
    "new.set_index(['id'], inplace=True)\n",
    "\n",
    "past.income = past.income.astype('int')\n",
    "new.income = new.income.astype('int')"
   ]
  },
  {
   "cell_type": "code",
   "execution_count": 3,
   "metadata": {},
   "outputs": [],
   "source": [
    "past1 = past.drop(['digital2', 'digital3'], axis=1)\n",
    "past1.rename(columns={'digital1':'digital'}, inplace=True)\n",
    "y1 = list(past1['default'])\n",
    "X1 = past1.drop(['default'], axis=1)\n",
    "\n",
    "past2 = past.drop(['digital1', 'digital3'], axis=1)\n",
    "past2.rename(columns={'digital2':'digital'}, inplace=True)\n",
    "y2 = list(past2['default'])\n",
    "X2 = past2.drop(['default'], axis=1)\n",
    "\n",
    "past3 = past.drop(['digital1', 'digital2'], axis=1)\n",
    "past3.rename(columns={'digital3':'digital'}, inplace=True)\n",
    "y3 = list(past3['default'])\n",
    "X3 = past3.drop(['default'], axis=1)\n"
   ]
  },
  {
   "cell_type": "code",
   "execution_count": 4,
   "metadata": {},
   "outputs": [],
   "source": [
    "cat_features = ['sex', 'employment']\n",
    "pass_features = ['married']\n",
    "numerical_features = ['income']\n",
    "numerical_pass_features = ['digital']\n",
    "\n",
    "cat_encoder = ohe()\n",
    "# numerical_encoder = StandardScaler()\n",
    "numerical_encoder = Normalizer()"
   ]
  },
  {
   "cell_type": "code",
   "execution_count": 5,
   "metadata": {},
   "outputs": [],
   "source": [
    "# X1[numerical_features] = numerical_encoder.fit_transform(X1[numerical_features])\n",
    "# X2[numerical_features] = numerical_encoder.fit_transform(X2[numerical_features])\n",
    "# X3[numerical_features] = numerical_encoder.fit_transform(X3[numerical_features])\n",
    "\n",
    "ll_list = list(X1.income)\n",
    "mini = min(ll_list)\n",
    "maxi = max(ll_list)\n",
    "ll = [(l - mini)/(maxi-mini) for l in ll_list]\n",
    "\n",
    "X1.income = [(l - mini)/(maxi-mini) for l in ll_list]\n",
    "X2.income = [(l - mini)/(maxi-mini) for l in ll_list]\n",
    "X3.income = [(l - mini)/(maxi-mini) for l in ll_list]\n",
    "# normalized = (x-min(x))/(max(x)-min(x))\n",
    "\n",
    "dums = pd.get_dummies(X1[cat_features], drop_first=True)\n",
    "X1.drop(cat_features, axis=1, inplace=True)\n",
    "X2.drop(cat_features, axis=1, inplace=True)\n",
    "X3.drop(cat_features, axis=1, inplace=True)\n",
    "\n",
    "X1[dums.columns] = dums\n",
    "X2[dums.columns] = dums\n",
    "X3[dums.columns] = dums"
   ]
  },
  {
   "cell_type": "code",
   "execution_count": 6,
   "metadata": {},
   "outputs": [],
   "source": [
    "X_train1, X_test1, y_train1, y_test1 = train_test_split(X1, y1, test_size=0.2, random_state=42)\n",
    "X_train2, X_test2, y_train2, y_test2 = train_test_split(X2, y2, test_size=0.2, random_state=42)\n",
    "X_train3, X_test3, y_train3, y_test3 = train_test_split(X3, y3, test_size=0.2, random_state=42)"
   ]
  },
  {
   "cell_type": "code",
   "execution_count": null,
   "metadata": {},
   "outputs": [],
   "source": []
  },
  {
   "cell_type": "code",
   "execution_count": null,
   "metadata": {},
   "outputs": [],
   "source": [
    "# oversample1 = SMOTE(sampling_strategy=0.44)\n",
    "# oversample2 = SMOTE(sampling_strategy=0.44)\n",
    "# oversample3 = SMOTE(sampling_strategy=0.44)\n",
    "\n",
    "# Xo_1, yo_1 = oversample1.fit_resample(X_train1, y_train1)\n",
    "# Xo_2, yo_2 = oversample2.fit_resample(X_train2, y_train2)\n",
    "# Xo_3, yo_3 = oversample3.fit_resample(X_train3, y_train3)\n"
   ]
  },
  {
   "cell_type": "code",
   "execution_count": null,
   "metadata": {},
   "outputs": [],
   "source": [
    "# cat1 = ohe().fit(X1[cat_features])\n",
    "# cat2 = ohe().fit(X2[cat_features])\n",
    "# cat3 = ohe().fit(X3[cat_features])"
   ]
  },
  {
   "cell_type": "code",
   "execution_count": null,
   "metadata": {},
   "outputs": [],
   "source": [
    "# clf1 = LogisticRegression(random_state=42).fit(X_train1, y_train1)\n",
    "# clf2 = LogisticRegression(random_state=42).fit(X_train2, y_train2)\n",
    "# clf3 = LogisticRegression(random_state=42).fit(X_train3, y_train3)"
   ]
  },
  {
   "cell_type": "code",
   "execution_count": null,
   "metadata": {},
   "outputs": [],
   "source": [
    "# clf1_o = LogisticRegression(random_state=42).fit(Xo_1, yo_1)\n",
    "# clf2_o = LogisticRegression(random_state=42).fit(Xo_2, yo_2)\n",
    "# clf3_o = LogisticRegression(random_state=42).fit(Xo_3, yo_3)"
   ]
  },
  {
   "cell_type": "code",
   "execution_count": null,
   "metadata": {},
   "outputs": [],
   "source": []
  },
  {
   "cell_type": "code",
   "execution_count": null,
   "metadata": {},
   "outputs": [],
   "source": [
    "# distributions = dict(C=uniform(loc=0, scale=4), penalty=['l2', 'l1'])\n",
    "# rand_clf1 = RandomizedSearchCV(clf1, distributions, random_state=42)\n",
    "# search = rand_clf1.fit(X_train1, y_train1)"
   ]
  },
  {
   "cell_type": "code",
   "execution_count": null,
   "metadata": {},
   "outputs": [],
   "source": [
    "# cross_val_score(clf1, X_train1, y_train1, scoring='f1')"
   ]
  },
  {
   "cell_type": "code",
   "execution_count": null,
   "metadata": {},
   "outputs": [],
   "source": [
    "# f1_score(y_test1, clf1.predict(X_test1), average='macro')"
   ]
  },
  {
   "cell_type": "code",
   "execution_count": null,
   "metadata": {},
   "outputs": [],
   "source": [
    "# cross_val_score(clf1_o, Xo_1, yo_1, scoring='f1')"
   ]
  },
  {
   "cell_type": "code",
   "execution_count": null,
   "metadata": {},
   "outputs": [],
   "source": [
    "# f1_score(y_test1, clf1_o.predict(X_test1), average='macro')"
   ]
  },
  {
   "cell_type": "code",
   "execution_count": null,
   "metadata": {},
   "outputs": [],
   "source": []
  },
  {
   "cell_type": "code",
   "execution_count": 12,
   "metadata": {},
   "outputs": [
    {
     "name": "stdout",
     "output_type": "stream",
     "text": [
      "iteration  25\n",
      "iteration  26\n",
      "iteration  27\n",
      "iteration  28\n",
      "iteration  29\n",
      "iteration  30\n",
      "iteration  31\n",
      "iteration  32\n",
      "iteration  33\n",
      "iteration  34\n",
      "iteration  35\n",
      "iteration  36\n",
      "iteration  37\n",
      "iteration  38\n",
      "iteration  39\n",
      "iteration  40\n",
      "iteration  41\n",
      "iteration  42\n",
      "iteration  43\n",
      "iteration  44\n",
      "iteration  45\n",
      "iteration  46\n",
      "iteration  47\n",
      "iteration  48\n",
      "iteration  49\n",
      "iteration  50\n",
      "iteration  51\n",
      "iteration  52\n",
      "iteration  53\n",
      "iteration  54\n",
      "iteration  55\n",
      "iteration  56\n",
      "iteration  57\n",
      "iteration  58\n",
      "iteration  59\n",
      "iteration  60\n",
      "iteration  61\n",
      "iteration  62\n",
      "iteration  63\n",
      "iteration  64\n",
      "iteration  65\n",
      "iteration  66\n",
      "iteration  67\n",
      "iteration  68\n",
      "iteration  69\n"
     ]
    },
    {
     "data": {
      "image/png": "[encoded data removed]",
      "text/plain": [
       "<Figure size 432x288 with 1 Axes>"
      ]
     },
     "metadata": {
      "needs_background": "light"
     },
     "output_type": "display_data"
    }
   ],
   "source": [
    "f1_s_logisticregression = []\n",
    "score_s_logisticregression = []\n",
    "predicted_length_logisticregression = []\n",
    "accuracy_logisticregression = []\n",
    "# auc_s = []\n",
    "\n",
    "lst_i = range(25, 70)\n",
    "for i in lst_i:\n",
    "    print('iteration ', i)\n",
    "    k = i/100\n",
    "    oversample1 = BorderlineSMOTE(sampling_strategy=k)\n",
    "    Xo_1, yo_1 = oversample1.fit_resample(X_train1, y_train1)\n",
    "\n",
    "    clf1_o = LogisticRegression(random_state=42).fit(Xo_1, yo_1)\n",
    "    # clf1_o = RandomForestClassifier(random_state=42).fit(Xo_1, yo_1)\n",
    "    # clf1_o = AdaBoostClassifier(random_state=42).fit(Xo_1, yo_1)\n",
    "    # clf1_o = GradientBoostingClassifier(random_state=42).fit(Xo_1, yo_1)\n",
    "    \n",
    "    f1_s_logisticregression.append(f1_score(y_test1, clf1_o.predict(X_test1), average='macro'))\n",
    "    # auc_s.append(auc(y_test1, clf1_o.predict(X_test1)))\n",
    "\n",
    "    score_s_logisticregression.append(clf1_o.score(Xo_1, yo_1))\n",
    "    predicted_length_logisticregression.append(clf1_o.predict(X_test1).sum())\n",
    "    accuracy_logisticregression.append(accuracy_score(y_test1, clf1_o.predict(X_test1)))\n",
    "\n",
    "plt.plot(lst_i, f1_s_logisticregression)\n",
    "plt.plot(lst_i, score_s_logisticregression)\n",
    "plt.plot(lst_i, accuracy_logisticregression)\n",
    "# plt.plot(lst_i, predicted_length)\n",
    "plt.legend(['f1_score', 'Score', 'Accuracy'])\n",
    "plt.title('Logistic Regression')\n",
    "\n",
    "plt.show()"
   ]
  },
  {
   "cell_type": "code",
   "execution_count": null,
   "metadata": {},
   "outputs": [],
   "source": [
    "f1_s_randomforest = []\n",
    "score_s_randomforest = []\n",
    "predicted_length_randomforest = []\n",
    "accuracy_randomforest = []\n",
    "# auc_s = []\n",
    "\n",
    "lst_i = range(40, 50)\n",
    "for i in lst_i:\n",
    "    print('iteration ', i)\n",
    "    k = i/100\n",
    "    oversample1 = BorderlineSMOTE(sampling_strategy=k)\n",
    "    Xo_1, yo_1 = oversample1.fit_resample(X_train1, y_train1)\n",
    "\n",
    "    # clf1_o = LogisticRegression(random_state=42).fit(Xo_1, yo_1)\n",
    "    clf1_o = RandomForestClassifier(random_state=42).fit(Xo_1, yo_1)\n",
    "    # clf1_o = AdaBoostClassifier(random_state=42).fit(Xo_1, yo_1)\n",
    "    # clf1_o = GradientBoostingClassifier(random_state=42).fit(Xo_1, yo_1)\n",
    "    \n",
    "    f1_s_randomforest.append(f1_score(y_test1, clf1_o.predict(X_test1), average='macro'))\n",
    "    # auc_s.append(auc(y_test1, clf1_o.predict(X_test1)))\n",
    "\n",
    "    score_s_randomforest.append(clf1_o.score(Xo_1, yo_1))\n",
    "    predicted_length_randomforest.append(clf1_o.predict(X_test1).sum())\n",
    "    accuracy_randomforest.append(accuracy_score(y_test1, clf1_o.predict(X_test1)))\n",
    "\n",
    "plt.plot(lst_i, f1_s_randomforest)\n",
    "plt.plot(lst_i, score_s_randomforest)\n",
    "plt.plot(lst_i, accuracy_randomforest)\n",
    "# plt.plot(lst_i, predicted_length)\n",
    "plt.legend(['f1_score', 'Score', 'Accuracy'])\n",
    "plt.title('Random Forest')\n",
    "\n",
    "plt.show()"
   ]
  },
  {
   "cell_type": "code",
   "execution_count": null,
   "metadata": {},
   "outputs": [],
   "source": [
    "# plt.plot(lst_i, f1_s)\n",
    "# plt.plot(lst_i, score_s)\n",
    "# # plt.plot(lst_i, predicted_length)\n",
    "# plt.legend(['f1_score', 'Accuracy'])\n",
    "\n",
    "# plt.show()"
   ]
  },
  {
   "cell_type": "code",
   "execution_count": null,
   "metadata": {},
   "outputs": [],
   "source": [
    "# plt.plot(lst_i, f1_s)\n",
    "# plt.plot(lst_i, score_s)\n",
    "# # plt.plot(lst_i, predicted_length)\n",
    "# plt.legend(['f1_score', 'Accuracy'])\n",
    "# plt.title('Random Forest')\n",
    "\n",
    "# plt.show()"
   ]
  },
  {
   "cell_type": "code",
   "execution_count": null,
   "metadata": {},
   "outputs": [],
   "source": [
    "f1_s_ada = []\n",
    "score_s_ada = []\n",
    "predicted_length_ada = []\n",
    "accuracy_ada = []\n",
    "# auc_s_ada = []\n",
    "\n",
    "lst_i = range(40, 50)\n",
    "for i in lst_i:\n",
    "    print('iteration ', i)\n",
    "    k = i/100\n",
    "    oversample1 = BorderlineSMOTE(sampling_strategy=k)\n",
    "    Xo_1, yo_1 = oversample1.fit_resample(X_train1, y_train1)\n",
    "\n",
    "    # clf1_o = LogisticRegression(random_state=42).fit(Xo_1, yo_1)\n",
    "    # clf1_o = RandomForestClassifier(random_state=42).fit(Xo_1, yo_1)\n",
    "    clf1_o = AdaBoostClassifier(random_state=42).fit(Xo_1, yo_1)\n",
    "    # clf1_o = GradientBoostingClassifier(random_state=42).fit(Xo_1, yo_1)\n",
    "    \n",
    "    f1_s_ada.append(f1_score(y_test1, clf1_o.predict(X_test1), average='macro'))\n",
    "    # auc_s_ada.append(auc(y_test1, clf1_o.predict(X_test1)))\n",
    "\n",
    "    score_s_ada.append(clf1_o.score(Xo_1, yo_1))\n",
    "    predicted_length_ada.append(clf1_o.predict(X_test1).sum())\n",
    "    accuracy_ada.append(accuracy_score(y_test1, clf1_o.predict(X_test1)))\n",
    "\n",
    "plt.plot(lst_i, f1_s_ada)\n",
    "plt.plot(lst_i, score_s_ada)\n",
    "plt.plot(lst_i, accuracy_ada)\n",
    "# plt.plot(lst_i, predicted_length)\n",
    "plt.legend(['f1_score', 'Score', 'Accuracy'])\n",
    "plt.title('Ada Boost')\n",
    "\n",
    "plt.show()"
   ]
  },
  {
   "cell_type": "code",
   "execution_count": null,
   "metadata": {},
   "outputs": [],
   "source": [
    "f1_s_gradboost = []\n",
    "score_s_gradboost = []\n",
    "predicted_length_gradboost = []\n",
    "accuracy_gradboost = []\n",
    "# auc_s_gradboost = []\n",
    "\n",
    "lst_i = range(40, 50)\n",
    "for i in lst_i:\n",
    "    print('iteration ', i)\n",
    "    k = i/100\n",
    "    oversample1 = BorderlineSMOTE(sampling_strategy=k)\n",
    "    Xo_1, yo_1 = oversample1.fit_resample(X_train1, y_train1)\n",
    "\n",
    "    # clf1_o = LogisticRegression(random_state=42).fit(Xo_1, yo_1)\n",
    "    # clf1_o = RandomForestClassifier(random_state=42).fit(Xo_1, yo_1)\n",
    "    # clf1_o = AdaBoostClassifier(random_state=42).fit(Xo_1, yo_1)\n",
    "    clf1_o = GradientBoostingClassifier(random_state=42).fit(Xo_1, yo_1)\n",
    "    \n",
    "    f1_s_gradboost.append(f1_score(y_test1, clf1_o.predict(X_test1), average='macro'))\n",
    "    # auc_s_gradboost.append(auc(y_test1, clf1_o.predict(X_test1)))\n",
    "\n",
    "    score_s_gradboost.append(clf1_o.score(Xo_1, yo_1))\n",
    "    predicted_length_gradboost.append(clf1_o.predict(X_test1).sum())\n",
    "    accuracy_gradboost.append(accuracy_score(y_test1, clf1_o.predict(X_test1)))\n",
    "\n",
    "plt.plot(lst_i, f1_s_gradboost)\n",
    "plt.plot(lst_i, score_s_gradboost)\n",
    "plt.plot(lst_i, accuracy_gradboost)\n",
    "# plt.plot(lst_i, predicted_length)\n",
    "plt.legend(['f1_score', 'Score', 'Accuracy'])\n",
    "plt.title('Gradient Boosting')\n",
    "\n",
    "plt.show()"
   ]
  },
  {
   "cell_type": "code",
   "execution_count": null,
   "metadata": {},
   "outputs": [],
   "source": [
    "f1_s_gxboost = []\n",
    "score_s_gxboost = []\n",
    "predicted_length_gxboost = []\n",
    "accuracy_xgboost = []\n",
    "# auc_s_gxboost = []\n",
    "\n",
    "lst_i = range(40, 50)\n",
    "for i in lst_i:\n",
    "    print('iteration ', i)\n",
    "    k = i/100\n",
    "    oversample1 = BorderlineSMOTE(sampling_strategy=k)\n",
    "    Xo_1, yo_1 = oversample1.fit_resample(X_train1, y_train1)\n",
    "\n",
    "    clf1_o = xgb.XGBClassifier(random_state=42).fit(Xo_1, yo_1)\n",
    "    \n",
    "    f1_s_gxboost.append(f1_score(y_test1, clf1_o.predict(X_test1), average='macro'))\n",
    "    # auc_s_gxboost.append(auc(y_test1, clf1_o.predict(X_test1)))\n",
    "\n",
    "    score_s_gxboost.append(clf1_o.score(Xo_1, yo_1))\n",
    "    predicted_length_gxboost.append(clf1_o.predict(X_test1).sum())\n",
    "    accuracy_xgboost.append(accuracy_score(y_test1, clf1_o.predict(X_test1)))\n",
    "\n",
    "plt.plot(lst_i, f1_s_gxboost)\n",
    "plt.plot(lst_i, score_s_gxboost)\n",
    "plt.plot(lst_i, accuracy_xgboost)\n",
    "# plt.plot(lst_i, predicted_length)\n",
    "plt.legend(['f1_score', 'Score', 'Accuracy'])\n",
    "plt.title('XGBoost')\n",
    "\n",
    "plt.show()"
   ]
  },
  {
   "cell_type": "code",
   "execution_count": null,
   "metadata": {},
   "outputs": [],
   "source": [
    "f1_s_lgb = []\n",
    "score_s_lgb = []\n",
    "predicted_length_lgb = []\n",
    "accuracy_lgb = []\n",
    "# auc_s_lgb = []\n",
    "\n",
    "lst_i = range(40, 50)\n",
    "for i in lst_i:\n",
    "    print('iteration ', i)\n",
    "    k = i/100\n",
    "    oversample1 = BorderlineSMOTE(sampling_strategy=k)\n",
    "    Xo_1, yo_1 = oversample1.fit_resample(X_train1, y_train1)\n",
    "\n",
    "    clf1_o = lgb.LGBMClassifier(random_state=42).fit(Xo_1, yo_1)\n",
    "    \n",
    "    f1_s_lgb.append(f1_score(y_test1, clf1_o.predict(X_test1), average='macro'))\n",
    "    # auc_s_gxboost.append(auc(y_test1, clf1_o.predict(X_test1)))\n",
    "\n",
    "    score_s_lgb.append(clf1_o.score(Xo_1, yo_1))\n",
    "    predicted_length_lgb.append(clf1_o.predict(X_test1).sum())\n",
    "    accuracy_lgb.append(accuracy_score(y_test1, clf1_o.predict(X_test1)))\n",
    "\n",
    "plt.plot(lst_i, f1_s_lgb)\n",
    "plt.plot(lst_i, score_s_lgb)\n",
    "plt.plot(lst_i, accuracy_lgb)\n",
    "# plt.plot(lst_i, predicted_length_lgb)\n",
    "plt.legend(['f1_score', 'Score', 'Accuracy'])\n",
    "plt.title('LGBM')\n",
    "\n",
    "plt.show()"
   ]
  },
  {
   "cell_type": "markdown",
   "metadata": {},
   "source": [
    "Final"
   ]
  },
  {
   "cell_type": "code",
   "execution_count": 19,
   "metadata": {},
   "outputs": [
    {
     "name": "stdout",
     "output_type": "stream",
     "text": [
      "iteration  LGBMClassifier(random_state=42)\n"
     ]
    }
   ],
   "source": [
    "f1_score_predlength_accuracy_xgb = []\n",
    "f1_score_predlength_accuracy_lgb = []\n",
    "f1_score_predlength_accuracy_logistic = []\n",
    "f1_score_predlength_accuracy_randomforest = []\n",
    "f1_score_predlength_accuracy_adaboost = []\n",
    "f1_score_predlength_accuracy_gradientboost = []\n",
    "\n",
    "lst_res = [f1_score_predlength_accuracy_xgb, f1_score_predlength_accuracy_lgb, \n",
    "            f1_score_predlength_accuracy_logistic, f1_score_predlength_accuracy_randomforest,\n",
    "            f1_score_predlength_accuracy_adaboost, f1_score_predlength_accuracy_gradientboost]\n",
    "\n",
    "clfs = [#xgb.XGBClassifier(random_state=42),\n",
    "        lgb.LGBMClassifier(random_state=42)#,\n",
    "        # LogisticRegression(random_state=42),\n",
    "        # RandomForestClassifier(random_state=42),\n",
    "        # AdaBoostClassifier(random_state=42),\n",
    "        # GradientBoostingClassifier(random_state=42)\n",
    "        ]\n",
    "\n",
    "i = 0\n",
    "\n",
    "for c in clfs:\n",
    "    print('iteration ', c)\n",
    "    oversample1 = BorderlineSMOTE(sampling_strategy=0.44)\n",
    "    Xo_1, yo_1 = oversample1.fit_resample(X_train1, y_train1)\n",
    "\n",
    "    clf1_o = c.fit(Xo_1, yo_1)\n",
    "    \n",
    "    lst_res[i].append(f1_score(y_test1, clf1_o.predict(X_test1), average='macro'))\n",
    "    lst_res[i].append(accuracy_score(y_test1, clf1_o.predict(X_test1)))\n",
    "    tn, fp, fn, tp = confusion_matrix(y_test1, clf1_o.predict(X_test1)).ravel()\n",
    "    specificity = tn / (tn+fp)\n",
    "    sensitivity = tp / (tp+fn)\n",
    "    lst_res[i].append(sensitivity)\n",
    "    lst_res[i].append(specificity)\n",
    "    probas = clf1_o.predict_proba(X_test1)\n",
    "\n",
    "    # auc_s_gxboost.append(auc(y_test1, clf1_o.predict(X_test1)))\n",
    "\n",
    "    # lst_res[i].append(clf1_o.score(Xo_1, yo_1))\n",
    "    lst_res[i].append(clf1_o.predict(X_test1).sum())\n",
    "\n",
    "    i += 1\n",
    "\n",
    "# plt.plot(lst_i, f1_s_lgb)\n",
    "# plt.plot(lst_i, score_s_lgb)\n",
    "# plt.plot(lst_i, accuracy_lgb)\n",
    "# # plt.plot(lst_i, predicted_length_lgb)\n",
    "# plt.legend(['f1_score', 'Score', 'Accuracy'])\n",
    "# plt.title('LGBM')\n",
    "\n",
    "# plt.show()"
   ]
  },
  {
   "cell_type": "code",
   "execution_count": 15,
   "metadata": {},
   "outputs": [
    {
     "data": {
      "text/plain": [
       "[XGBClassifier(base_score=0.5, booster='gbtree', colsample_bylevel=1,\n",
       "               colsample_bynode=1, colsample_bytree=1, gamma=0, gpu_id=-1,\n",
       "               importance_type='gain', interaction_constraints='',\n",
       "               learning_rate=0.300000012, max_delta_step=0, max_depth=6,\n",
       "               min_child_weight=1, missing=nan, monotone_constraints='()',\n",
       "               n_estimators=100, n_jobs=8, num_parallel_tree=1, random_state=42,\n",
       "               reg_alpha=0, reg_lambda=1, scale_pos_weight=1, subsample=1,\n",
       "               tree_method='exact', validate_parameters=1, verbosity=None),\n",
       " LGBMClassifier(random_state=42),\n",
       " LogisticRegression(random_state=42),\n",
       " RandomForestClassifier(random_state=42),\n",
       " AdaBoostClassifier(random_state=42),\n",
       " GradientBoostingClassifier(random_state=42)]"
      ]
     },
     "execution_count": 15,
     "metadata": {},
     "output_type": "execute_result"
    }
   ],
   "source": [
    "clfs"
   ]
  },
  {
   "cell_type": "code",
   "execution_count": 18,
   "metadata": {},
   "outputs": [
    {
     "data": {
      "text/plain": [
       "[[0.5961619710663375, 0.80525, 0.9272119185162664, 0.24106891701828412, 2054],\n",
       " [0.6097668623454695, 0.80375, 0.9174825174825175, 0.2776371308016878, 2344],\n",
       " [0.6005170801916435, 0.8052, 0.924901185770751, 0.2514767932489452, 2129],\n",
       " [0.5658559488366565, 0.7556, 0.8614776527820006, 0.26582278481012656, 3223],\n",
       " [0.6085676373842548, 0.80525, 0.9207053815749467, 0.2711673699015471, 2268],\n",
       " [0.6097306258458383, 0.80605, 0.921435086652478, 0.27229254571026723, 2260]]"
      ]
     },
     "execution_count": 18,
     "metadata": {},
     "output_type": "execute_result"
    }
   ],
   "source": [
    "lst_res"
   ]
  },
  {
   "cell_type": "code",
   "execution_count": 36,
   "metadata": {},
   "outputs": [
    {
     "data": {
      "text/plain": [
       "0.0038386149955576716"
      ]
     },
     "execution_count": 36,
     "metadata": {},
     "output_type": "execute_result"
    }
   ],
   "source": [
    "# probas1 = [x[1] for x in probas]\n",
    "# min(probas1)\n",
    "# clf1_o.predict(X_test1)"
   ]
  },
  {
   "cell_type": "code",
   "execution_count": 58,
   "metadata": {},
   "outputs": [
    {
     "data": {
      "text/plain": [
       "array([[0.87728846, 0.12271154],\n",
       "       [0.92000963, 0.07999037],\n",
       "       [0.86602818, 0.13397182],\n",
       "       ...,\n",
       "       [0.8819873 , 0.1180127 ],\n",
       "       [0.92525085, 0.07474915],\n",
       "       [0.90858485, 0.09141515]])"
      ]
     },
     "execution_count": 58,
     "metadata": {},
     "output_type": "execute_result"
    }
   ],
   "source": [
    "probas"
   ]
  },
  {
   "cell_type": "code",
   "execution_count": 59,
   "metadata": {},
   "outputs": [
    {
     "data": {
      "text/plain": [
       "(array([1581., 3212., 3629., 3505., 2784., 2278., 1548., 1065.,  295.,\n",
       "         103.]),\n",
       " array([0.00383861, 0.08101262, 0.15818662, 0.23536062, 0.31253463,\n",
       "        0.38970863, 0.46688263, 0.54405664, 0.62123064, 0.69840464,\n",
       "        0.77557864]),\n",
       " <BarContainer object of 10 artists>)"
      ]
     },
     "execution_count": 59,
     "metadata": {},
     "output_type": "execute_result"
    },
    {
     "data": {
      "image/png": "[encoded data removed]",
      "text/plain": [
       "<Figure size 432x288 with 1 Axes>"
      ]
     },
     "metadata": {
      "needs_background": "light"
     },
     "output_type": "display_data"
    }
   ],
   "source": [
    "probas1 = [x[1] for x in probas]\n",
    "probas0 = [x[0] for x in probas]\n",
    "counts, bins = np.histogram(probas0)\n",
    "plt.hist(probas1)"
   ]
  },
  {
   "cell_type": "code",
   "execution_count": 83,
   "metadata": {},
   "outputs": [],
   "source": [
    "res = pd.DataFrame(probas, columns=['proba_no_default', 'proba_default'])\n",
    "res['default_pred'] = clf1_o.predict(X_test1)\n",
    "res['default_true'] = y_test1\n",
    "res['bp_rate'] = res['proba_default']/(1-res['proba_default'])\n",
    "res['profit'] = (1+res['bp_rate'])*10000*(1-res['proba_default'])-10000\n",
    "prob_different = res[res['default_true'] != res['default_pred']]\n",
    "prob_default = prob_different[prob_different['default_true']==1].proba_default\n",
    "prob_no_default = prob_different[prob_different['default_true']==0].proba_default\n",
    "\n"
   ]
  },
  {
   "cell_type": "code",
   "execution_count": 84,
   "metadata": {},
   "outputs": [
    {
     "data": {
      "text/plain": [
       "proba_no_default    1.423819e+04\n",
       "proba_default       5.761810e+03\n",
       "default_pred        2.229000e+03\n",
       "default_true        3.555000e+03\n",
       "bp_rate             9.847438e+03\n",
       "profit              4.565663e-10\n",
       "dtype: float64"
      ]
     },
     "execution_count": 84,
     "metadata": {},
     "output_type": "execute_result"
    }
   ],
   "source": [
    "res.sum()"
   ]
  },
  {
   "cell_type": "code",
   "execution_count": 75,
   "metadata": {},
   "outputs": [
    {
     "data": {
      "text/plain": [
       "(array([ 509.,  596.,  730., 1060., 1346., 1268., 1133., 1345., 1093.,\n",
       "        1290.,  941.,  894.,  826.,  661.,  588.,  621.,  449.,  316.,\n",
       "         293.,  236.,  111.,   53.,   44.,   29.,   13.]),\n",
       " array([0.00383861, 0.0338809 , 0.06392318, 0.09396547, 0.12400775,\n",
       "        0.15405004, 0.18409232, 0.21413461, 0.24417689, 0.27421917,\n",
       "        0.30426146, 0.33430374, 0.36434603, 0.39438831, 0.4244306 ,\n",
       "        0.45447288, 0.48451517, 0.51455745, 0.54459973, 0.57464202,\n",
       "        0.6046843 , 0.63472659, 0.66476887, 0.69481116, 0.72485344,\n",
       "        0.75489573]),\n",
       " <BarContainer object of 25 artists>)"
      ]
     },
     "execution_count": 75,
     "metadata": {},
     "output_type": "execute_result"
    },
    {
     "data": {
      "image/png": "[encoded data removed]",
      "text/plain": [
       "<Figure size 432x288 with 1 Axes>"
      ]
     },
     "metadata": {
      "needs_background": "light"
     },
     "output_type": "display_data"
    }
   ],
   "source": [
    "vals0 = list(res[res['default_true']==0].proba_default)\n",
    "\n",
    "plt.hist(vals0, bins=25)"
   ]
  },
  {
   "cell_type": "code",
   "execution_count": 76,
   "metadata": {},
   "outputs": [
    {
     "data": {
      "text/plain": [
       "(array([ 16.,  32.,  67., 116., 168., 136., 169., 194., 225., 201., 200.,\n",
       "        198., 200., 238., 245., 212., 188., 190., 171., 169.,  76.,  51.,\n",
       "         65.,  24.,   4.]),\n",
       " array([0.01169962, 0.04225478, 0.07280994, 0.1033651 , 0.13392026,\n",
       "        0.16447542, 0.19503058, 0.22558574, 0.25614091, 0.28669607,\n",
       "        0.31725123, 0.34780639, 0.37836155, 0.40891671, 0.43947187,\n",
       "        0.47002703, 0.50058219, 0.53113736, 0.56169252, 0.59224768,\n",
       "        0.62280284, 0.653358  , 0.68391316, 0.71446832, 0.74502348,\n",
       "        0.77557864]),\n",
       " <BarContainer object of 25 artists>)"
      ]
     },
     "execution_count": 76,
     "metadata": {},
     "output_type": "execute_result"
    },
    {
     "data": {
      "image/png": "[encoded data removed]",
      "text/plain": [
       "<Figure size 432x288 with 1 Axes>"
      ]
     },
     "metadata": {
      "needs_background": "light"
     },
     "output_type": "display_data"
    }
   ],
   "source": [
    "vals1 = list(res[res['default_true']==1].proba_default)\n",
    "plt.hist(vals1, bins=25)"
   ]
  },
  {
   "cell_type": "code",
   "execution_count": 73,
   "metadata": {},
   "outputs": [
    {
     "data": {
      "text/plain": [
       "(array([  8.,  16.,  20.,  42.,  49.,  72.,  96., 109.,  85., 103., 109.,\n",
       "        131., 108., 161., 143., 120., 129., 121., 123., 140., 133., 146.,\n",
       "        162., 143., 143.]),\n",
       " array([0.01169962, 0.03122438, 0.05074914, 0.07027391, 0.08979867,\n",
       "        0.10932344, 0.1288482 , 0.14837296, 0.16789773, 0.18742249,\n",
       "        0.20694725, 0.22647202, 0.24599678, 0.26552155, 0.28504631,\n",
       "        0.30457107, 0.32409584, 0.3436206 , 0.36314536, 0.38267013,\n",
       "        0.40219489, 0.42171966, 0.44124442, 0.46076918, 0.48029395,\n",
       "        0.49981871]),\n",
       " <BarContainer object of 25 artists>)"
      ]
     },
     "execution_count": 73,
     "metadata": {},
     "output_type": "execute_result"
    },
    {
     "data": {
      "image/png": "[encoded data removed]",
      "text/plain": [
       "<Figure size 432x288 with 1 Axes>"
      ]
     },
     "metadata": {
      "needs_background": "light"
     },
     "output_type": "display_data"
    }
   ],
   "source": [
    "counts, bins = np.histogram(prob_default)\n",
    "plt.hist(prob_default, bins=25)"
   ]
  },
  {
   "cell_type": "code",
   "execution_count": 70,
   "metadata": {},
   "outputs": [
    {
     "data": {
      "text/plain": [
       "(array([144., 133.,  80.,  98., 113., 106.,  93.,  82.,  74.,  90.,  52.,\n",
       "         55.,  23.,  18.,  22.,  14.,  13.,  19.,  12.,  10.,  15.,   7.,\n",
       "          9.,   1.,   3.]),\n",
       " array([0.50007073, 0.51026373, 0.52045673, 0.53064973, 0.54084273,\n",
       "        0.55103573, 0.56122873, 0.57142173, 0.58161473, 0.59180773,\n",
       "        0.60200073, 0.61219373, 0.62238673, 0.63257973, 0.64277273,\n",
       "        0.65296573, 0.66315873, 0.67335173, 0.68354473, 0.69373773,\n",
       "        0.70393073, 0.71412373, 0.72431673, 0.73450973, 0.74470273,\n",
       "        0.75489573]),\n",
       " <BarContainer object of 25 artists>)"
      ]
     },
     "execution_count": 70,
     "metadata": {},
     "output_type": "execute_result"
    },
    {
     "data": {
      "image/png": "[encoded data removed]",
      "text/plain": [
       "<Figure size 432x288 with 1 Axes>"
      ]
     },
     "metadata": {
      "needs_background": "light"
     },
     "output_type": "display_data"
    }
   ],
   "source": [
    "counts, bins = np.histogram(prob_no_default)\n",
    "plt.hist(prob_no_default, bins=25)"
   ]
  },
  {
   "cell_type": "markdown",
   "metadata": {},
   "source": [
    "TPOT"
   ]
  },
  {
   "cell_type": "code",
   "execution_count": null,
   "metadata": {},
   "outputs": [],
   "source": [
    "tpot = TPOTClassifier()\n",
    "tpot.fit(X_train, y_train)\n",
    "tpot.score(X_test, y_test)"
   ]
  },
  {
   "cell_type": "code",
   "execution_count": null,
   "metadata": {},
   "outputs": [],
   "source": [
    "import tpot \n",
    "\n",
    "\n",
    "tpot = TPOTClassifier()\n",
    "tpot.fit(X_train1, y_train1)\n",
    "tpot.score(X_test1, y_test1)\n",
    "\n",
    "# # let's try tpot\n",
    "# # define evaluation procedure\n",
    "# cv = RepeatedKFold(n_splits=10, n_repeats=3, random_state=1)\n",
    "\n",
    "# # define search\n",
    "# model = TPOTRegressor(generations=5, population_size=50, scoring='neg_mean_absolute_error', cv=cv, verbosity=2, random_state=1, n_jobs=-1)\n"
   ]
  },
  {
   "cell_type": "code",
   "execution_count": null,
   "metadata": {},
   "outputs": [],
   "source": [
    "from tpot import TPOTClassifier\n",
    "# from sklearn.datasets import load_digits\n",
    "# from sklearn.model_selection import train_test_split\n",
    "import sklearn.metrics\n",
    "import timeit\n",
    "\n",
    "# create train and test sets\n",
    "\n",
    "tpot = TPOTClassifier(verbosity=3, \n",
    "                      scoring=\"f1_macro\", \n",
    "                      random_state=42,\n",
    "                      n_jobs=-1, \n",
    "                      generations=10, \n",
    "                      population_size=100)\n",
    "# run three iterations and time them\n",
    "for x in range(3):\n",
    "    start_time = timeit.default_timer()\n",
    "    tpot.fit(X_train1, y_train1)\n",
    "    elapsed = timeit.default_timer() - start_time\n",
    "    times.append(elapsed)\n",
    "    winning_pipes.append(tpot.fitted_pipeline_)\n",
    "    print('yo')\n",
    "    scores.append(tpot.score(X_test1, y_test1))\n",
    "    tpot.export('tpot_mnist_pipeline.py')\n",
    "times = [time/60 for time in times]\n",
    "print('Times:', times)\n",
    "print('Scores:', scores)   \n",
    "print('Winning pipelines:', winning_pipes)"
   ]
  }
 ],
 "metadata": {
  "kernelspec": {
   "display_name": "Python 3.9.7 ('base')",
   "language": "python",
   "name": "python3"
  },
  "language_info": {
   "codemirror_mode": {
    "name": "ipython",
    "version": 3
   },
   "file_extension": ".py",
   "mimetype": "text/x-python",
   "name": "python",
   "nbconvert_exporter": "python",
   "pygments_lexer": "ipython3",
   "version": "3.9.7"
  },
  "orig_nbformat": 4,
  "vscode": {
   "interpreter": {
    "hash": "096d4302486a5f76f9b50d582eb8507d0f454f0513db05604f74a7cecd9e1d14"
   }
  }
 },
 "nbformat": 4,
 "nbformat_minor": 2
}
