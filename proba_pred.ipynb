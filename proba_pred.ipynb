{
 "cells": [
  {
   "cell_type": "code",
   "execution_count": 1,
   "metadata": {},
   "outputs": [],
   "source": [
    "import pandas as pd\n",
    "import numpy as np\n",
    "from sklearn.linear_model import LogisticRegression\n",
    "from sklearn.model_selection import train_test_split\n",
    "from sklearn.preprocessing import OneHotEncoder as ohe\n",
    "from sklearn.preprocessing import StandardScaler"
   ]
  },
  {
   "cell_type": "code",
   "execution_count": 2,
   "metadata": {},
   "outputs": [],
   "source": [
    "past = pd.read_csv('PastLoans.csv')\n",
    "new = pd.read_csv('NewApplications_1_Round1.csv')\n",
    "past.set_index(['id'], inplace=True)\n",
    "new.set_index(['id'], inplace=True)"
   ]
  },
  {
   "cell_type": "code",
   "execution_count": 3,
   "metadata": {},
   "outputs": [
    {
     "name": "stdout",
     "output_type": "stream",
     "text": [
      "(100000, 8)\n",
      "   sex  married employment   income  digital1  digital2  digital3  default\n",
      "id                                                                        \n",
      "1    M        0   employed  50215.0     0.213     0.193     0.032        0\n",
      "2    M        0    student  14499.0     0.465     0.731     0.472        0\n",
      "3    M        1    retired  32448.0     0.147     0.018     0.113        0\n",
      "4    M        0    student   8627.0     0.212     0.346     0.148        0\n",
      "5    F        1   employed  17259.0     0.384     0.252     0.551        0\n",
      "(100000, 5)\n",
      "       sex  married employment   income  digital1\n",
      "id                                               \n",
      "100001   M        0    student  12394.0     0.491\n",
      "100002   M        0   employed  36385.0     0.450\n",
      "100003   M        0    student  14945.0     0.756\n",
      "100004   F        1   employed  17874.0     0.618\n",
      "100005   M        0   employed  34250.0     0.453\n"
     ]
    }
   ],
   "source": [
    "print(past.shape)\n",
    "print(past.head())\n",
    "print(new.shape)\n",
    "print(new.head())"
   ]
  },
  {
   "cell_type": "code",
   "execution_count": 4,
   "metadata": {},
   "outputs": [
    {
     "data": {
      "text/plain": [
       "default\n",
       "0          81905\n",
       "1          18095\n",
       "dtype: int64"
      ]
     },
     "execution_count": 4,
     "metadata": {},
     "output_type": "execute_result"
    }
   ],
   "source": [
    "past.value_counts(['default'])"
   ]
  },
  {
   "cell_type": "code",
   "execution_count": 5,
   "metadata": {},
   "outputs": [
    {
     "data": {
      "text/html": [
       "<div>\n",
       "<style scoped>\n",
       "    .dataframe tbody tr th:only-of-type {\n",
       "        vertical-align: middle;\n",
       "    }\n",
       "\n",
       "    .dataframe tbody tr th {\n",
       "        vertical-align: top;\n",
       "    }\n",
       "\n",
       "    .dataframe thead th {\n",
       "        text-align: right;\n",
       "    }\n",
       "</style>\n",
       "<table border=\"1\" class=\"dataframe\">\n",
       "  <thead>\n",
       "    <tr style=\"text-align: right;\">\n",
       "      <th></th>\n",
       "      <th>married</th>\n",
       "      <th>income</th>\n",
       "      <th>digital1</th>\n",
       "      <th>digital2</th>\n",
       "      <th>digital3</th>\n",
       "    </tr>\n",
       "    <tr>\n",
       "      <th>default</th>\n",
       "      <th></th>\n",
       "      <th></th>\n",
       "      <th></th>\n",
       "      <th></th>\n",
       "      <th></th>\n",
       "    </tr>\n",
       "  </thead>\n",
       "  <tbody>\n",
       "    <tr>\n",
       "      <th>0</th>\n",
       "      <td>0.621354</td>\n",
       "      <td>40735.809010</td>\n",
       "      <td>0.392746</td>\n",
       "      <td>0.392599</td>\n",
       "      <td>0.393277</td>\n",
       "    </tr>\n",
       "    <tr>\n",
       "      <th>1</th>\n",
       "      <td>0.611992</td>\n",
       "      <td>23902.378281</td>\n",
       "      <td>0.298160</td>\n",
       "      <td>0.299725</td>\n",
       "      <td>0.298640</td>\n",
       "    </tr>\n",
       "  </tbody>\n",
       "</table>\n",
       "</div>"
      ],
      "text/plain": [
       "          married        income  digital1  digital2  digital3\n",
       "default                                                      \n",
       "0        0.621354  40735.809010  0.392746  0.392599  0.393277\n",
       "1        0.611992  23902.378281  0.298160  0.299725  0.298640"
      ]
     },
     "execution_count": 5,
     "metadata": {},
     "output_type": "execute_result"
    }
   ],
   "source": [
    "past.groupby(by=['default']).mean()"
   ]
  },
  {
   "cell_type": "code",
   "execution_count": 6,
   "metadata": {},
   "outputs": [],
   "source": [
    "past1 = past.drop(['digital2', 'digital3'], axis=1)\n",
    "past1.rename(columns={'digital1':'digital'}, inplace=True)\n",
    "y1 = list(past1['default'])\n",
    "X1 = past1.drop(['default'], axis=1)\n",
    "\n",
    "past2 = past.drop(['digital1', 'digital3'], axis=1)\n",
    "past2.rename(columns={'digital2':'digital'}, inplace=True)\n",
    "y2 = list(past2['default'])\n",
    "X2 = past2.drop(['default'], axis=1)\n",
    "\n",
    "past3 = past.drop(['digital1', 'digital2'], axis=1)\n",
    "past3.rename(columns={'digital3':'digital'}, inplace=True)\n",
    "y3 = list(past3['default'])\n",
    "X3 = past3.drop(['default'], axis=1)\n"
   ]
  },
  {
   "cell_type": "code",
   "execution_count": 7,
   "metadata": {},
   "outputs": [],
   "source": [
    "cat_features = ['sex', 'employment']\n",
    "pass_features = ['married']\n",
    "numerical_features = ['income']\n",
    "numerical_pass_features = ['digital']\n",
    "\n",
    "cat_encoder = ohe()\n",
    "numerical_encoder = StandardScaler()"
   ]
  },
  {
   "cell_type": "code",
   "execution_count": 8,
   "metadata": {},
   "outputs": [],
   "source": [
    "X1[numerical_features] = numerical_encoder.fit_transform(X1[numerical_features])\n",
    "X2[numerical_features] = numerical_encoder.fit_transform(X2[numerical_features])\n",
    "X3[numerical_features] = numerical_encoder.fit_transform(X3[numerical_features])\n",
    "\n",
    "dums = pd.get_dummies(X1[cat_features], drop_first=True)\n",
    "X1.drop(cat_features, axis=1, inplace=True)\n",
    "X2.drop(cat_features, axis=1, inplace=True)\n",
    "X3.drop(cat_features, axis=1, inplace=True)\n",
    "\n",
    "X1[dums.columns] = dums\n",
    "X2[dums.columns] = dums\n",
    "X3[dums.columns] = dums"
   ]
  },
  {
   "cell_type": "code",
   "execution_count": 9,
   "metadata": {},
   "outputs": [],
   "source": [
    "X_train1, X_test1, y_train1, y_test1 = train_test_split(X1, y1, test_size=0.2, random_state=42)\n",
    "X_train2, X_test2, y_train2, y_test2 = train_test_split(X2, y2, test_size=0.2, random_state=42)\n",
    "X_train3, X_test3, y_train3, y_test3 = train_test_split(X3, y3, test_size=0.2, random_state=42)"
   ]
  },
  {
   "cell_type": "code",
   "execution_count": 10,
   "metadata": {},
   "outputs": [],
   "source": [
    "# cat1 = ohe().fit(X1[cat_features])\n",
    "# cat2 = ohe().fit(X2[cat_features])\n",
    "# cat3 = ohe().fit(X3[cat_features])"
   ]
  },
  {
   "cell_type": "code",
   "execution_count": 11,
   "metadata": {},
   "outputs": [],
   "source": [
    "clf1 = LogisticRegression(random_state=42).fit(X_train1, y_train1)\n",
    "clf2 = LogisticRegression(random_state=42).fit(X_train2, y_train2)\n",
    "clf3 = LogisticRegression(random_state=42).fit(X_train3, y_train3)"
   ]
  },
  {
   "cell_type": "code",
   "execution_count": 14,
   "metadata": {},
   "outputs": [],
   "source": [
    "from sklearn.model_selection import cross_val_score\n",
    "from sklearn.metrics import f1_score\n"
   ]
  },
  {
   "cell_type": "code",
   "execution_count": 13,
   "metadata": {},
   "outputs": [
    {
     "data": {
      "text/plain": [
       "array([0.01961447, 0.01359619, 0.01834862, 0.0176331 , 0.00886162])"
      ]
     },
     "execution_count": 13,
     "metadata": {},
     "output_type": "execute_result"
    }
   ],
   "source": [
    "cross_val_score(clf1, X_train1, y_train1, scoring='f1')"
   ]
  },
  {
   "cell_type": "code",
   "execution_count": 15,
   "metadata": {},
   "outputs": [
    {
     "data": {
      "text/plain": [
       "0.4603174603174603"
      ]
     },
     "execution_count": 15,
     "metadata": {},
     "output_type": "execute_result"
    }
   ],
   "source": [
    "f1_score(y_test1, clf1.predict(X_test1), average='macro')"
   ]
  },
  {
   "cell_type": "code",
   "execution_count": null,
   "metadata": {},
   "outputs": [],
   "source": [
    "clf1.score(X_train1, y_train1)"
   ]
  },
  {
   "cell_type": "code",
   "execution_count": null,
   "metadata": {},
   "outputs": [],
   "source": [
    "clf1.predict(X_test1).sum()"
   ]
  }
 ],
 "metadata": {
  "kernelspec": {
   "display_name": "Python 3.9.7 ('base')",
   "language": "python",
   "name": "python3"
  },
  "language_info": {
   "codemirror_mode": {
    "name": "ipython",
    "version": 3
   },
   "file_extension": ".py",
   "mimetype": "text/x-python",
   "name": "python",
   "nbconvert_exporter": "python",
   "pygments_lexer": "ipython3",
   "version": "3.9.7"
  },
  "orig_nbformat": 4,
  "vscode": {
   "interpreter": {
    "hash": "096d4302486a5f76f9b50d582eb8507d0f454f0513db05604f74a7cecd9e1d14"
   }
  }
 },
 "nbformat": 4,
 "nbformat_minor": 2
}
