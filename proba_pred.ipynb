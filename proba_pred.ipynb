{
 "cells": [
  {
   "cell_type": "code",
   "execution_count": 4,
   "metadata": {},
   "outputs": [],
   "source": [
    "import pandas as pd\n",
    "import numpy as np"
   ]
  },
  {
   "cell_type": "code",
   "execution_count": 8,
   "metadata": {},
   "outputs": [],
   "source": [
    "proba = pd.read_csv('regression_proba.csv')\n",
    "past = pd.read_csv('PastLoans.csv')\n",
    "new = pd.read_csv('NewApplications_1_Round1.csv')\n",
    "past.set_index(['id'], inplace=True)\n",
    "new.set_index(['id'], inplace=True)"
   ]
  },
  {
   "cell_type": "code",
   "execution_count": 6,
   "metadata": {},
   "outputs": [
    {
     "name": "stdout",
     "output_type": "stream",
     "text": [
      "(100000, 8)\n",
      "   sex  married employment   income  digital1  digital2  digital3  default\n",
      "id                                                                        \n",
      "1    M        0   employed  50215.0     0.213     0.193     0.032        0\n",
      "2    M        0    student  14499.0     0.465     0.731     0.472        0\n",
      "3    M        1    retired  32448.0     0.147     0.018     0.113        0\n",
      "4    M        0    student   8627.0     0.212     0.346     0.148        0\n",
      "5    F        1   employed  17259.0     0.384     0.252     0.551        0\n",
      "(100000, 5)\n",
      "       sex  married employment   income  digital1\n",
      "id                                               \n",
      "100001   M        0    student  12394.0     0.491\n",
      "100002   M        0   employed  36385.0     0.450\n",
      "100003   M        0    student  14945.0     0.756\n",
      "100004   F        1   employed  17874.0     0.618\n",
      "100005   M        0   employed  34250.0     0.453\n"
     ]
    }
   ],
   "source": [
    "print(past.shape)\n",
    "print(past.head())\n",
    "print(new.shape)\n",
    "print(new.head())"
   ]
  },
  {
   "cell_type": "code",
   "execution_count": 7,
   "metadata": {},
   "outputs": [
    {
     "data": {
      "text/plain": [
       "default\n",
       "0          81905\n",
       "1          18095\n",
       "dtype: int64"
      ]
     },
     "execution_count": 7,
     "metadata": {},
     "output_type": "execute_result"
    }
   ],
   "source": [
    "past.value_counts(['default'])"
   ]
  },
  {
   "cell_type": "code",
   "execution_count": 5,
   "metadata": {},
   "outputs": [
    {
     "data": {
      "text/html": [
       "<div>\n",
       "<style scoped>\n",
       "    .dataframe tbody tr th:only-of-type {\n",
       "        vertical-align: middle;\n",
       "    }\n",
       "\n",
       "    .dataframe tbody tr th {\n",
       "        vertical-align: top;\n",
       "    }\n",
       "\n",
       "    .dataframe thead th {\n",
       "        text-align: right;\n",
       "    }\n",
       "</style>\n",
       "<table border=\"1\" class=\"dataframe\">\n",
       "  <thead>\n",
       "    <tr style=\"text-align: right;\">\n",
       "      <th></th>\n",
       "      <th>married</th>\n",
       "      <th>income</th>\n",
       "      <th>digital1</th>\n",
       "      <th>digital2</th>\n",
       "      <th>digital3</th>\n",
       "    </tr>\n",
       "    <tr>\n",
       "      <th>default</th>\n",
       "      <th></th>\n",
       "      <th></th>\n",
       "      <th></th>\n",
       "      <th></th>\n",
       "      <th></th>\n",
       "    </tr>\n",
       "  </thead>\n",
       "  <tbody>\n",
       "    <tr>\n",
       "      <th>0</th>\n",
       "      <td>0.621354</td>\n",
       "      <td>40735.809010</td>\n",
       "      <td>0.392746</td>\n",
       "      <td>0.392599</td>\n",
       "      <td>0.393277</td>\n",
       "    </tr>\n",
       "    <tr>\n",
       "      <th>1</th>\n",
       "      <td>0.611992</td>\n",
       "      <td>23902.378281</td>\n",
       "      <td>0.298160</td>\n",
       "      <td>0.299725</td>\n",
       "      <td>0.298640</td>\n",
       "    </tr>\n",
       "  </tbody>\n",
       "</table>\n",
       "</div>"
      ],
      "text/plain": [
       "          married        income  digital1  digital2  digital3\n",
       "default                                                      \n",
       "0        0.621354  40735.809010  0.392746  0.392599  0.393277\n",
       "1        0.611992  23902.378281  0.298160  0.299725  0.298640"
      ]
     },
     "execution_count": 5,
     "metadata": {},
     "output_type": "execute_result"
    }
   ],
   "source": [
    "past.groupby(by=['default']).mean()"
   ]
  },
  {
   "cell_type": "code",
   "execution_count": 6,
   "metadata": {},
   "outputs": [],
   "source": [
    "\n",
    "cat_features = ['sex', 'employment']\n",
    "pass_features = ['married']\n",
    "numerical_features = ['income']\n",
    "numerical_pass_features = ['digital1', 'digital2', 'digital3']\n"
   ]
  }
 ],
 "metadata": {
  "kernelspec": {
   "display_name": "Python 3.9.7 ('base')",
   "language": "python",
   "name": "python3"
  },
  "language_info": {
   "codemirror_mode": {
    "name": "ipython",
    "version": 3
   },
   "file_extension": ".py",
   "mimetype": "text/x-python",
   "name": "python",
   "nbconvert_exporter": "python",
   "pygments_lexer": "ipython3",
   "version": "3.9.7"
  },
  "orig_nbformat": 4,
  "vscode": {
   "interpreter": {
    "hash": "096d4302486a5f76f9b50d582eb8507d0f454f0513db05604f74a7cecd9e1d14"
   }
  }
 },
 "nbformat": 4,
 "nbformat_minor": 2
}
